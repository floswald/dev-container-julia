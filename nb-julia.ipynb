{
 "cells": [
  {
   "cell_type": "code",
   "execution_count": 1,
   "id": "9e38c7cb-e89c-4f05-9c66-11300dbe95e3",
   "metadata": {
    "tags": []
   },
   "outputs": [
    {
     "name": "stderr",
     "output_type": "stream",
     "text": [
      "\u001b[32m\u001b[1m  Activating\u001b[22m\u001b[39m project at `~/git/dev-container-julia`\n"
     ]
    }
   ],
   "source": [
    "using Pkg\n",
    "Pkg.activate(\".\")\n",
    "Pkg.instantiate()"
   ]
  },
  {
   "cell_type": "code",
   "execution_count": 2,
   "id": "a485fcb9",
   "metadata": {
    "tags": []
   },
   "outputs": [
    {
     "name": "stderr",
     "output_type": "stream",
     "text": [
      "\u001b[36m\u001b[1m[ \u001b[22m\u001b[39m\u001b[36m\u001b[1mInfo: \u001b[22m\u001b[39mPrecompiling IJuliaExt [2f4121a4-3b3a-5ce6-9c5e-1f2673ce168a]\n"
     ]
    },
    {
     "data": {
      "text/plain": [
       "Main.bench"
      ]
     },
     "execution_count": 2,
     "metadata": {},
     "output_type": "execute_result"
    }
   ],
   "source": [
    "module bench\n",
    "\n",
    "using Distributions\n",
    "using Random\n",
    "using DataFrames\n",
    "using StatsPlots  \n",
    "using BenchmarkTools\n",
    "\n",
    "function sdata(k,n; doplot = false)\n",
    "    Random.seed!(3333)\n",
    "    # true values\n",
    "    μ = [2.0,5.0]\n",
    "    σ = [0.5,0.7]\n",
    "    α = [0.3,0.7]\n",
    "\n",
    "    m = MixtureModel([Normal(μ[i], σ[i]) for i in 1:2], α)\n",
    "    if doplot\n",
    "        plot(\n",
    "            plot(m,linewidth=2), \n",
    "            plot(m,linewidth=2, fill=(0,:red,0.5), components = false, title=\"Mixture\"),dpi = 300\n",
    "            )\n",
    "        savefig(\"mixtures.png\")\n",
    "    end\n",
    "    y = rand(m,n)\n",
    "\n",
    "    return Dict(:y => y, :μ => μ, :σ => σ, :α => α)\n",
    "end\n",
    "\n",
    "\n",
    "function allbm()\n",
    "    ns = [10_000,100_000,1_000_000,10_000_000]\n",
    "    d = DataFrame(n = ns,jl = zeros(4),jlg = zeros(4),R = zeros(4),Rmix = zeros(4))\n",
    "    for ni in ns\n",
    "        r = bm(25,ni, doplot = ni==ns[1])\n",
    "        d[d.n .== ni,:jl] = r[:jl]\n",
    "        d[d.n .== ni,:jlg] = r[:jlg]\n",
    "        d[d.n .== ni,:R] = r[:R]\n",
    "        d[d.n .== ni,:Rmix] = r[:Rmix]\n",
    "    end\n",
    "    s = stack(d,2:5)\n",
    "    pl = @df s scatter(:n, :value, group = :variable, \n",
    "                        yaxis = :log, xaxis = :log, legend = :topleft,\n",
    "                        xlabel = \"num of observations\", \n",
    "                        ylabel = \"seconds\", dpi = 300)\n",
    "    savefig(\"EM-bench.png\")\n",
    "    return (d,pl)\n",
    "end\n",
    "\n",
    "function bm(iters,N; doplot = false)\n",
    "    alpha_tol = 0.1  # no convergence, hence big tol\n",
    "    mu_tol    = 0.5  # no convergence, hence big tol\n",
    "    tol       = 0.0005  # all algos should converge to same point\n",
    "    d         = sdata(2,N,doplot = doplot)\n",
    "    y         = d[:y]\n",
    "    N         = length(y)\n",
    "    #@info \"true values\" N=N μ=d[:μ] σ=d[:σ] α=d[:α]\n",
    "\n",
    "    jl = bm_jl(y,iters = iters)\n",
    "    # and time\n",
    "    jl_t = @belapsed bm_jl($y,iters = $iters)\n",
    "    @info \"hand julia: $jl_t seconds\"\n",
    "\n",
    "    # check outputs\n",
    "\n",
    "    # @assert all( isapprox.( jl[:α], d[:α] , atol = alpha_tol) )\n",
    "    # @assert all( isapprox.( jl[:μ], d[:μ] , atol = mu_tol) )\n",
    "    # @assert all( isapprox.( jl[:σ], d[:σ] , atol = mu_tol) )\n",
    "\n",
    "    # @assert all( isapprox.( jl[:α], jlg.w , atol = tol) )\n",
    "    # @assert all( isapprox.( jl[:μ], jlg.μ , atol = tol) )\n",
    "    # @assert all( isapprox.( jl[:σ], sqrt.(jlg.Σ) , atol = tol) )\n",
    "\n",
    "    # @assert all( jl[:α] .≈ R[:result][:alpha] )\n",
    "    # @assert all( jl[:μ] .≈ R[:result][:mu] )\n",
    "    # @assert all( jl[:σ] .≈ R[:result][:sigma] )\n",
    "\n",
    "    # @assert all( isapprox.( jl[:α] , Rm[:result][:lambda] , atol = tol))\n",
    "    # @assert all( isapprox.( jl[:μ] , Rm[:result][:mu] , atol = tol))\n",
    "    # @assert all( isapprox.( jl[:σ] , Rm[:result][:sigma] , atol = tol))\n",
    "\n",
    "    return Dict(:jl => jl_t)\n",
    "end\n",
    "\n",
    "\n",
    "# Naive julia hand implementation\n",
    "\n",
    "function logsumexp(x::Matrix{Float64})\n",
    "    vm = maximum(x,dims = 2)\n",
    "    log.( sum( exp.( x .- vm ), dims= 2 )) .+ vm\n",
    "end\n",
    "\n",
    "function bm_jl(y::Vector{Float64};iters=100)\n",
    "\n",
    "    # poor starting values\n",
    "    μ = [4.0,6.0]\n",
    "    σ = [1.0,1.0]\n",
    "    α = [0.5,0.5]\n",
    "\n",
    "    N = length(y)\n",
    "    K = length(μ)\n",
    "\n",
    "    # initialize objects    \n",
    "    L = zeros(N,K)\n",
    "    p = similar(L)\n",
    "\n",
    "    for it in 1:iters\n",
    "\n",
    "        dists = [Normal(μ[ik], σ[ik] ) for ik in 1:K]\n",
    "\n",
    "        # evaluate likelihood for each type \n",
    "        for i in 1:N\n",
    "            for k in 1:K\n",
    "                # Distributions.jl logpdf()\n",
    "                L[i,k] = log(α[k]) + logpdf.(dists[k], y[i]) \n",
    "            end\n",
    "        end\n",
    "\n",
    "        # get posterior of each type \n",
    "        p[:,:] = exp.(L .- logsumexp(L))\n",
    "      \n",
    "        # with p in hand, update \n",
    "        α[:] .= vec(sum(p,dims=1) ./ N)\n",
    "        μ[:] .= vec(sum(p .* y, dims = 1) ./ sum(p, dims = 1))\n",
    "        σ[:] .= vec(sqrt.(sum(p .* (y .- μ').^2, dims = 1) ./ sum(p, dims = 1)))\n",
    "    end\n",
    "    return Dict(:α => α, :μ => μ, :σ => σ)\n",
    "end\n",
    "\n",
    "end"
   ]
  },
  {
   "cell_type": "code",
   "execution_count": 3,
   "id": "fcced79e-640e-429f-9cb2-3e7f8aaa7e42",
   "metadata": {
    "tags": []
   },
   "outputs": [
    {
     "name": "stderr",
     "output_type": "stream",
     "text": [
      "\u001b[36m\u001b[1m[ \u001b[22m\u001b[39m\u001b[36m\u001b[1mInfo: \u001b[22m\u001b[39mhand julia: 0.011709993 seconds\n"
     ]
    },
    {
     "data": {
      "text/plain": [
       "Dict{Symbol, Float64} with 1 entry:\n",
       "  :jl => 0.01171"
      ]
     },
     "execution_count": 3,
     "metadata": {},
     "output_type": "execute_result"
    }
   ],
   "source": [
    "bench.bm(20, 10_000)"
   ]
  },
  {
   "cell_type": "code",
   "execution_count": null,
   "id": "9bb00b50-bd54-49e0-8427-aae5940745c8",
   "metadata": {},
   "outputs": [],
   "source": []
  }
 ],
 "metadata": {
  "kernelspec": {
   "display_name": "Julia 1.9.3",
   "language": "julia",
   "name": "julia-1.9"
  },
  "language_info": {
   "file_extension": ".jl",
   "mimetype": "application/julia",
   "name": "julia",
   "version": "1.9.3"
  }
 },
 "nbformat": 4,
 "nbformat_minor": 5
}
